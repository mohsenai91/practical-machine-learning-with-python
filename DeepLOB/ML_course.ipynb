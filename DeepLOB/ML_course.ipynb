{
 "cells": [
  {
   "cell_type": "code",
   "execution_count": 1,
   "metadata": {},
   "outputs": [],
   "source": [
    "import pandas as pd\n",
    "import ast\n",
    "import numpy as np"
   ]
  },
  {
   "cell_type": "code",
   "execution_count": 2,
   "metadata": {},
   "outputs": [],
   "source": [
    "cols_LOB = [\"DateTime\",\"Open\",\"High\",\"Low\",\"Last\",\"Volume\",\"NumTrades\",\"BidVolume\",\"AskVolume\",\"SumBid\",\"SumAsk\",\"BidPrices\",\"BidVolumes\",\"AskPrices\",\"AskVolumes\"]\n",
    "\n",
    "col_list_LOB = [\"BidPrices\",\"BidVolumes\",\"AskPrices\",\"AskVolumes\"]"
   ]
  },
  {
   "cell_type": "code",
   "execution_count": 3,
   "metadata": {},
   "outputs": [],
   "source": [
    "def sigmoid(x):\n",
    "    return 1/(1 + np.exp(-(x.astype(float))))\n",
    "\n",
    "def string_to_nplist(x):\n",
    "    if pd.isnull(x):\n",
    "        return []\n",
    "    else:\n",
    "        return np.array(ast.literal_eval(x))"
   ]
  },
  {
   "cell_type": "code",
   "execution_count": 4,
   "metadata": {},
   "outputs": [],
   "source": [
    "def read_data(file_name, col_names, col_list):\n",
    "    data = pd.read_csv(file_name, names=col_names, delimiter=\"|\")\n",
    "    for col in col_list:\n",
    "        data[col] = data[col].apply(lambda x: string_to_nplist(x))\n",
    "    data[\"DateTime\"] = pd.to_datetime(data[\"DateTime\"])\n",
    "    data.set_index([\"DateTime\"], inplace=True)\n",
    "    return data\n",
    "\n",
    "def clean_lob(data, weight_mid_price=0.5, cols_need=[\"BidPrices\",\"BidVolumes\",\"AskPrices\",\"AskVolumes\"], num_level=10):\n",
    "    lst_valid_samples = []\n",
    "    mid_prices = []\n",
    "    for ind, row in data.iterrows():\n",
    "        if len(row[\"BidPrices\"]) and len(row[\"AskPrices\"]):\n",
    "            if (row[\"BidPrices\"].shape[0] == num_level) and (row[\"AskPrices\"].shape[0] == num_level):\n",
    "                lst_valid_samples.append(ind)\n",
    "                mid_p = weight_mid_price * row[\"BidPrices\"][0] + (1 - weight_mid_price) * row[\"AskPrices\"][0]\n",
    "                mid_prices.append(mid_p)\n",
    "    ret_data = pd.DataFrame(index=lst_valid_samples, data=data.loc[lst_valid_samples, cols_need])\n",
    "    ret_data[\"Midprice\"] = mid_prices\n",
    "    return ret_data"
   ]
  },
  {
   "cell_type": "code",
   "execution_count": 5,
   "metadata": {},
   "outputs": [],
   "source": [
    "lob_path = \"./\"\n",
    "data_path = lob_path + \"LOB_NQU22-CME_2_1_10_10level.lob\""
   ]
  },
  {
   "cell_type": "code",
   "execution_count": 7,
   "metadata": {},
   "outputs": [
    {
     "data": {
      "text/html": [
       "<div>\n",
       "<style scoped>\n",
       "    .dataframe tbody tr th:only-of-type {\n",
       "        vertical-align: middle;\n",
       "    }\n",
       "\n",
       "    .dataframe tbody tr th {\n",
       "        vertical-align: top;\n",
       "    }\n",
       "\n",
       "    .dataframe thead th {\n",
       "        text-align: right;\n",
       "    }\n",
       "</style>\n",
       "<table border=\"1\" class=\"dataframe\">\n",
       "  <thead>\n",
       "    <tr style=\"text-align: right;\">\n",
       "      <th></th>\n",
       "      <th>DateTime</th>\n",
       "      <th>Open</th>\n",
       "      <th>High</th>\n",
       "      <th>Low</th>\n",
       "      <th>Last</th>\n",
       "      <th>Volume</th>\n",
       "      <th>NumTrades</th>\n",
       "      <th>BidVolume</th>\n",
       "      <th>AskVolume</th>\n",
       "      <th>SumBid</th>\n",
       "      <th>SumAsk</th>\n",
       "      <th>BidPrices</th>\n",
       "      <th>BidVolumes</th>\n",
       "      <th>AskPrices</th>\n",
       "      <th>AskVolumes</th>\n",
       "    </tr>\n",
       "  </thead>\n",
       "  <tbody>\n",
       "    <tr>\n",
       "      <th>0</th>\n",
       "      <td>2022-07-07  00:00:00</td>\n",
       "      <td>11897.50</td>\n",
       "      <td>11898.25</td>\n",
       "      <td>11892.75</td>\n",
       "      <td>11893.00</td>\n",
       "      <td>53.0</td>\n",
       "      <td>51.0</td>\n",
       "      <td>34.0</td>\n",
       "      <td>19.0</td>\n",
       "      <td>29.0</td>\n",
       "      <td>20.0</td>\n",
       "      <td>11892.750000,11892.500000,11892.250000,11892.0...</td>\n",
       "      <td>1,2,2,3,1,4,1,9,3,3,</td>\n",
       "      <td>11893.250000,11893.500000,11893.750000,11894.0...</td>\n",
       "      <td>1,2,3,1,1,2,2,2,3,3,</td>\n",
       "    </tr>\n",
       "    <tr>\n",
       "      <th>1</th>\n",
       "      <td>2022-07-07  00:00:10</td>\n",
       "      <td>11892.25</td>\n",
       "      <td>11892.75</td>\n",
       "      <td>11878.25</td>\n",
       "      <td>11880.00</td>\n",
       "      <td>231.0</td>\n",
       "      <td>211.0</td>\n",
       "      <td>166.0</td>\n",
       "      <td>65.0</td>\n",
       "      <td>22.0</td>\n",
       "      <td>18.0</td>\n",
       "      <td>11879.750000,11879.500000,11879.250000,11879.0...</td>\n",
       "      <td>1,2,2,3,2,2,3,3,2,2,</td>\n",
       "      <td>11880.250000,11880.500000,11880.750000,11881.0...</td>\n",
       "      <td>1,1,2,2,3,3,1,2,1,2,</td>\n",
       "    </tr>\n",
       "    <tr>\n",
       "      <th>2</th>\n",
       "      <td>2022-07-07  00:00:20</td>\n",
       "      <td>11879.50</td>\n",
       "      <td>11880.50</td>\n",
       "      <td>11876.25</td>\n",
       "      <td>11876.75</td>\n",
       "      <td>85.0</td>\n",
       "      <td>85.0</td>\n",
       "      <td>38.0</td>\n",
       "      <td>47.0</td>\n",
       "      <td>34.0</td>\n",
       "      <td>24.0</td>\n",
       "      <td>11876.500000,11876.250000,11876.000000,11875.7...</td>\n",
       "      <td>1,1,6,1,3,5,4,7,2,4,</td>\n",
       "      <td>11877.000000,11877.250000,11877.500000,11877.7...</td>\n",
       "      <td>2,4,1,1,3,2,5,1,4,1,</td>\n",
       "    </tr>\n",
       "    <tr>\n",
       "      <th>3</th>\n",
       "      <td>2022-07-07  00:00:30</td>\n",
       "      <td>11876.25</td>\n",
       "      <td>11882.50</td>\n",
       "      <td>11876.00</td>\n",
       "      <td>11880.25</td>\n",
       "      <td>89.0</td>\n",
       "      <td>89.0</td>\n",
       "      <td>36.0</td>\n",
       "      <td>53.0</td>\n",
       "      <td>14.0</td>\n",
       "      <td>19.0</td>\n",
       "      <td>11880.000000,11879.750000,11879.500000,11879.2...</td>\n",
       "      <td>2,2,1,1,2,1,1,2,1,1,</td>\n",
       "      <td>11880.500000,11880.750000,11881.000000,11881.2...</td>\n",
       "      <td>3,4,1,2,1,1,1,1,4,1,</td>\n",
       "    </tr>\n",
       "    <tr>\n",
       "      <th>4</th>\n",
       "      <td>2022-07-07  00:00:40</td>\n",
       "      <td>11879.50</td>\n",
       "      <td>11882.25</td>\n",
       "      <td>11878.75</td>\n",
       "      <td>11882.25</td>\n",
       "      <td>22.0</td>\n",
       "      <td>22.0</td>\n",
       "      <td>8.0</td>\n",
       "      <td>14.0</td>\n",
       "      <td>14.0</td>\n",
       "      <td>26.0</td>\n",
       "      <td>11881.500000,11881.250000,11881.000000,11880.7...</td>\n",
       "      <td>1,2,2,1,1,2,1,1,1,2,</td>\n",
       "      <td>11882.500000,11882.750000,11883.000000,11883.2...</td>\n",
       "      <td>5,1,1,4,1,4,2,2,2,4,</td>\n",
       "    </tr>\n",
       "  </tbody>\n",
       "</table>\n",
       "</div>"
      ],
      "text/plain": [
       "               DateTime      Open      High       Low      Last  Volume   \n",
       "0  2022-07-07  00:00:00  11897.50  11898.25  11892.75  11893.00    53.0  \\\n",
       "1  2022-07-07  00:00:10  11892.25  11892.75  11878.25  11880.00   231.0   \n",
       "2  2022-07-07  00:00:20  11879.50  11880.50  11876.25  11876.75    85.0   \n",
       "3  2022-07-07  00:00:30  11876.25  11882.50  11876.00  11880.25    89.0   \n",
       "4  2022-07-07  00:00:40  11879.50  11882.25  11878.75  11882.25    22.0   \n",
       "\n",
       "   NumTrades  BidVolume  AskVolume  SumBid  SumAsk   \n",
       "0       51.0       34.0       19.0    29.0    20.0  \\\n",
       "1      211.0      166.0       65.0    22.0    18.0   \n",
       "2       85.0       38.0       47.0    34.0    24.0   \n",
       "3       89.0       36.0       53.0    14.0    19.0   \n",
       "4       22.0        8.0       14.0    14.0    26.0   \n",
       "\n",
       "                                           BidPrices            BidVolumes   \n",
       "0  11892.750000,11892.500000,11892.250000,11892.0...  1,2,2,3,1,4,1,9,3,3,  \\\n",
       "1  11879.750000,11879.500000,11879.250000,11879.0...  1,2,2,3,2,2,3,3,2,2,   \n",
       "2  11876.500000,11876.250000,11876.000000,11875.7...  1,1,6,1,3,5,4,7,2,4,   \n",
       "3  11880.000000,11879.750000,11879.500000,11879.2...  2,2,1,1,2,1,1,2,1,1,   \n",
       "4  11881.500000,11881.250000,11881.000000,11880.7...  1,2,2,1,1,2,1,1,1,2,   \n",
       "\n",
       "                                           AskPrices            AskVolumes  \n",
       "0  11893.250000,11893.500000,11893.750000,11894.0...  1,2,3,1,1,2,2,2,3,3,  \n",
       "1  11880.250000,11880.500000,11880.750000,11881.0...  1,1,2,2,3,3,1,2,1,2,  \n",
       "2  11877.000000,11877.250000,11877.500000,11877.7...  2,4,1,1,3,2,5,1,4,1,  \n",
       "3  11880.500000,11880.750000,11881.000000,11881.2...  3,4,1,2,1,1,1,1,4,1,  \n",
       "4  11882.500000,11882.750000,11883.000000,11883.2...  5,1,1,4,1,4,2,2,2,4,  "
      ]
     },
     "execution_count": 7,
     "metadata": {},
     "output_type": "execute_result"
    }
   ],
   "source": [
    "data = pd.read_csv(data_path, names=cols_LOB, delimiter=\"|\")\n",
    "data.head()"
   ]
  },
  {
   "cell_type": "code",
   "execution_count": 16,
   "metadata": {},
   "outputs": [
    {
     "data": {
      "text/plain": [
       "str"
      ]
     },
     "execution_count": 16,
     "metadata": {},
     "output_type": "execute_result"
    }
   ],
   "source": [
    "dtaa.head()"
   ]
  },
  {
   "cell_type": "code",
   "execution_count": 30,
   "metadata": {},
   "outputs": [
    {
     "data": {
      "text/html": [
       "<div>\n",
       "<style scoped>\n",
       "    .dataframe tbody tr th:only-of-type {\n",
       "        vertical-align: middle;\n",
       "    }\n",
       "\n",
       "    .dataframe tbody tr th {\n",
       "        vertical-align: top;\n",
       "    }\n",
       "\n",
       "    .dataframe thead th {\n",
       "        text-align: right;\n",
       "    }\n",
       "</style>\n",
       "<table border=\"1\" class=\"dataframe\">\n",
       "  <thead>\n",
       "    <tr style=\"text-align: right;\">\n",
       "      <th></th>\n",
       "      <th>DateTime</th>\n",
       "      <th>Open</th>\n",
       "      <th>High</th>\n",
       "      <th>Low</th>\n",
       "      <th>Last</th>\n",
       "      <th>Volume</th>\n",
       "      <th>NumTrades</th>\n",
       "      <th>BidVolume</th>\n",
       "      <th>AskVolume</th>\n",
       "      <th>SumBid</th>\n",
       "      <th>SumAsk</th>\n",
       "      <th>BidPrices</th>\n",
       "      <th>BidVolumes</th>\n",
       "      <th>AskPrices</th>\n",
       "      <th>AskVolumes</th>\n",
       "    </tr>\n",
       "  </thead>\n",
       "  <tbody>\n",
       "  </tbody>\n",
       "</table>\n",
       "</div>"
      ],
      "text/plain": [
       "Empty DataFrame\n",
       "Columns: [DateTime, Open, High, Low, Last, Volume, NumTrades, BidVolume, AskVolume, SumBid, SumAsk, BidPrices, BidVolumes, AskPrices, AskVolumes]\n",
       "Index: []"
      ]
     },
     "execution_count": 30,
     "metadata": {},
     "output_type": "execute_result"
    }
   ],
   "source": [
    "data.loc[data[\"BidVolumes\"].isnull()]"
   ]
  },
  {
   "cell_type": "code",
   "execution_count": null,
   "metadata": {},
   "outputs": [],
   "source": [
    "datt groupby by date \n",
    "for d in days:\n",
    "    for i in range(ind_0(d), ind_n(d)-100, step=1):\n",
    "        sample = X[i: i+100]\n",
    "        ..."
   ]
  }
 ],
 "metadata": {
  "kernelspec": {
   "display_name": "base",
   "language": "python",
   "name": "python3"
  },
  "language_info": {
   "codemirror_mode": {
    "name": "ipython",
    "version": 3
   },
   "file_extension": ".py",
   "mimetype": "text/x-python",
   "name": "python",
   "nbconvert_exporter": "python",
   "pygments_lexer": "ipython3",
   "version": "3.9.13"
  },
  "orig_nbformat": 4
 },
 "nbformat": 4,
 "nbformat_minor": 2
}
