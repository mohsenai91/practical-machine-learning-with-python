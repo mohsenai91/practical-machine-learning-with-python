{
 "cells": [
  {
   "cell_type": "markdown",
   "metadata": {},
   "source": [
    "# Initialize dependencies and get data"
   ]
  },
  {
   "cell_type": "code",
   "execution_count": 4,
   "metadata": {
    "collapsed": false
   },
   "outputs": [],
   "source": [
    "import keras\n",
    "from keras.datasets import mnist\n",
    "from keras.models import Sequential\n",
    "from keras.layers import Dense, Dropout, Flatten\n",
    "from keras.layers import Conv2D, MaxPooling2D\n",
    "from keras import backend as K\n",
    "\n",
    "batch_size = 128\n",
    "num_classes = 10\n",
    "epochs = 12\n",
    "\n",
    "# input image dimensions\n",
    "img_rows, img_cols = 28, 28"
   ]
  },
  {
   "cell_type": "code",
   "execution_count": 5,
   "metadata": {},
   "outputs": [],
   "source": [
    "# https://storage.googleapis.com/tensorflow/tf-keras-datasets/mnist.npz\n",
    "\n",
    "# the data, shuffled and split between train and test sets\n",
    "# (x_train, y_train), (x_test, y_test) = mnist.load_data()\n",
    "\n",
    "import numpy as np\n",
    "\n",
    "path = \"./datasets/mnist.npz\"\n",
    "with np.load(path, allow_pickle=True) as f:\n",
    "    x_train, y_train = f['x_train'], f['y_train']\n",
    "    x_test, y_test = f['x_test'], f['y_test']"
   ]
  },
  {
   "cell_type": "code",
   "execution_count": 6,
   "metadata": {},
   "outputs": [],
   "source": [
    "if K.image_data_format() == 'channels_first':\n",
    "    x_train = x_train.reshape(x_train.shape[0], 1, img_rows, img_cols)\n",
    "    x_test = x_test.reshape(x_test.shape[0], 1, img_rows, img_cols)\n",
    "    input_shape = (1, img_rows, img_cols)\n",
    "else:\n",
    "    x_train = x_train.reshape(x_train.shape[0], img_rows, img_cols, 1)\n",
    "    x_test = x_test.reshape(x_test.shape[0], img_rows, img_cols, 1)\n",
    "    input_shape = (img_rows, img_cols, 1)"
   ]
  },
  {
   "cell_type": "markdown",
   "metadata": {},
   "source": [
    "# Pre-process image data"
   ]
  },
  {
   "cell_type": "code",
   "execution_count": 7,
   "metadata": {
    "collapsed": false
   },
   "outputs": [
    {
     "name": "stdout",
     "output_type": "stream",
     "text": [
      "x_train shape: (60000, 28, 28, 1)\n",
      "60000 train samples\n",
      "10000 test samples\n"
     ]
    }
   ],
   "source": [
    "x_train = x_train.astype('float32')\n",
    "x_test = x_test.astype('float32')\n",
    "x_train /= 255\n",
    "x_test /= 255\n",
    "print('x_train shape:', x_train.shape)\n",
    "print(x_train.shape[0], 'train samples')\n",
    "print(x_test.shape[0], 'test samples')"
   ]
  },
  {
   "cell_type": "code",
   "execution_count": 8,
   "metadata": {
    "collapsed": false
   },
   "outputs": [],
   "source": [
    "# convert class vectors to binary class matrices\n",
    "y_train = keras.utils.to_categorical(y_train, num_classes)\n",
    "y_test = keras.utils.to_categorical(y_test, num_classes)"
   ]
  },
  {
   "cell_type": "markdown",
   "metadata": {},
   "source": [
    "# Build a CNN based deep neural network"
   ]
  },
  {
   "cell_type": "code",
   "execution_count": 9,
   "metadata": {
    "collapsed": true
   },
   "outputs": [],
   "source": [
    "model = Sequential()\n",
    "model.add(Conv2D(32, kernel_size=(3, 3),\n",
    "                 activation='relu',\n",
    "                 input_shape=input_shape))\n",
    "model.add(Conv2D(64, (3, 3), activation='relu'))\n",
    "model.add(MaxPooling2D(pool_size=(2, 2)))\n",
    "model.add(Dropout(0.25))\n",
    "model.add(Flatten())\n",
    "model.add(Dense(128, activation='relu'))\n",
    "model.add(Dropout(0.5))\n",
    "model.add(Dense(num_classes, activation='softmax'))"
   ]
  },
  {
   "cell_type": "markdown",
   "metadata": {},
   "source": [
    "# Visualize the network architecture"
   ]
  },
  {
   "cell_type": "code",
   "execution_count": 10,
   "metadata": {
    "collapsed": false
   },
   "outputs": [
    {
     "data": {
      "image/svg+xml": [
       "<svg xmlns=\"http://www.w3.org/2000/svg\" xmlns:xlink=\"http://www.w3.org/1999/xlink\" width=\"383pt\" height=\"959pt\" viewBox=\"0.00 0.00 287.00 719.00\">\n",
       "<g id=\"graph0\" class=\"graph\" transform=\"scale(1.33333 1.33333) rotate(0) translate(4 715)\">\n",
       "<title>G</title>\n",
       "<polygon fill=\"white\" stroke=\"none\" points=\"-4,4 -4,-715 283,-715 283,4 -4,4\"/>\n",
       "<!-- 2587441513808 -->\n",
       "<g id=\"node1\" class=\"node\">\n",
       "<title>2587441513808</title>\n",
       "<polygon fill=\"none\" stroke=\"black\" points=\"4,-664.5 4,-710.5 275,-710.5 275,-664.5 4,-664.5\"/>\n",
       "<text text-anchor=\"middle\" x=\"51\" y=\"-695.3\" font-family=\"Times New Roman,serif\" font-size=\"14.00\">conv2d_input</text>\n",
       "<polyline fill=\"none\" stroke=\"black\" points=\"4,-687.5 98,-687.5\"/>\n",
       "<text text-anchor=\"middle\" x=\"51\" y=\"-672.3\" font-family=\"Times New Roman,serif\" font-size=\"14.00\">InputLayer</text>\n",
       "<polyline fill=\"none\" stroke=\"black\" points=\"98,-664.5 98,-710.5\"/>\n",
       "<text text-anchor=\"middle\" x=\"126\" y=\"-695.3\" font-family=\"Times New Roman,serif\" font-size=\"14.00\">input:</text>\n",
       "<polyline fill=\"none\" stroke=\"black\" points=\"98,-687.5 154,-687.5\"/>\n",
       "<text text-anchor=\"middle\" x=\"126\" y=\"-672.3\" font-family=\"Times New Roman,serif\" font-size=\"14.00\">output:</text>\n",
       "<polyline fill=\"none\" stroke=\"black\" points=\"154,-664.5 154,-710.5\"/>\n",
       "<text text-anchor=\"middle\" x=\"214.5\" y=\"-695.3\" font-family=\"Times New Roman,serif\" font-size=\"14.00\">[(None, 28, 28, 1)]</text>\n",
       "<polyline fill=\"none\" stroke=\"black\" points=\"154,-687.5 275,-687.5\"/>\n",
       "<text text-anchor=\"middle\" x=\"214.5\" y=\"-672.3\" font-family=\"Times New Roman,serif\" font-size=\"14.00\">[(None, 28, 28, 1)]</text>\n",
       "</g>\n",
       "<!-- 2587441208192 -->\n",
       "<g id=\"node2\" class=\"node\">\n",
       "<title>2587441208192</title>\n",
       "<polygon fill=\"none\" stroke=\"black\" points=\"20,-581.5 20,-627.5 259,-627.5 259,-581.5 20,-581.5\"/>\n",
       "<text text-anchor=\"middle\" x=\"52\" y=\"-612.3\" font-family=\"Times New Roman,serif\" font-size=\"14.00\">conv2d</text>\n",
       "<polyline fill=\"none\" stroke=\"black\" points=\"20,-604.5 84,-604.5\"/>\n",
       "<text text-anchor=\"middle\" x=\"52\" y=\"-589.3\" font-family=\"Times New Roman,serif\" font-size=\"14.00\">Conv2D</text>\n",
       "<polyline fill=\"none\" stroke=\"black\" points=\"84,-581.5 84,-627.5\"/>\n",
       "<text text-anchor=\"middle\" x=\"112\" y=\"-612.3\" font-family=\"Times New Roman,serif\" font-size=\"14.00\">input:</text>\n",
       "<polyline fill=\"none\" stroke=\"black\" points=\"84,-604.5 140,-604.5\"/>\n",
       "<text text-anchor=\"middle\" x=\"112\" y=\"-589.3\" font-family=\"Times New Roman,serif\" font-size=\"14.00\">output:</text>\n",
       "<polyline fill=\"none\" stroke=\"black\" points=\"140,-581.5 140,-627.5\"/>\n",
       "<text text-anchor=\"middle\" x=\"199.5\" y=\"-612.3\" font-family=\"Times New Roman,serif\" font-size=\"14.00\">(None, 28, 28, 1)</text>\n",
       "<polyline fill=\"none\" stroke=\"black\" points=\"140,-604.5 259,-604.5\"/>\n",
       "<text text-anchor=\"middle\" x=\"199.5\" y=\"-589.3\" font-family=\"Times New Roman,serif\" font-size=\"14.00\">(None, 26, 26, 32)</text>\n",
       "</g>\n",
       "<!-- 2587441513808&#45;&gt;2587441208192 -->\n",
       "<g id=\"edge1\" class=\"edge\">\n",
       "<title>2587441513808-&gt;2587441208192</title>\n",
       "<path fill=\"none\" stroke=\"black\" d=\"M139.5,-664.79C139.5,-656.71 139.5,-647.35 139.5,-638.48\"/>\n",
       "<polygon fill=\"black\" stroke=\"black\" points=\"143,-638.78 139.5,-628.78 136,-638.78 143,-638.78\"/>\n",
       "</g>\n",
       "<!-- 2587441258016 -->\n",
       "<g id=\"node3\" class=\"node\">\n",
       "<title>2587441258016</title>\n",
       "<polygon fill=\"none\" stroke=\"black\" points=\"15.5,-498.5 15.5,-544.5 263.5,-544.5 263.5,-498.5 15.5,-498.5\"/>\n",
       "<text text-anchor=\"middle\" x=\"52\" y=\"-529.3\" font-family=\"Times New Roman,serif\" font-size=\"14.00\">conv2d_1</text>\n",
       "<polyline fill=\"none\" stroke=\"black\" points=\"15.5,-521.5 88.5,-521.5\"/>\n",
       "<text text-anchor=\"middle\" x=\"52\" y=\"-506.3\" font-family=\"Times New Roman,serif\" font-size=\"14.00\">Conv2D</text>\n",
       "<polyline fill=\"none\" stroke=\"black\" points=\"88.5,-498.5 88.5,-544.5\"/>\n",
       "<text text-anchor=\"middle\" x=\"116.5\" y=\"-529.3\" font-family=\"Times New Roman,serif\" font-size=\"14.00\">input:</text>\n",
       "<polyline fill=\"none\" stroke=\"black\" points=\"88.5,-521.5 144.5,-521.5\"/>\n",
       "<text text-anchor=\"middle\" x=\"116.5\" y=\"-506.3\" font-family=\"Times New Roman,serif\" font-size=\"14.00\">output:</text>\n",
       "<polyline fill=\"none\" stroke=\"black\" points=\"144.5,-498.5 144.5,-544.5\"/>\n",
       "<text text-anchor=\"middle\" x=\"204\" y=\"-529.3\" font-family=\"Times New Roman,serif\" font-size=\"14.00\">(None, 26, 26, 32)</text>\n",
       "<polyline fill=\"none\" stroke=\"black\" points=\"144.5,-521.5 263.5,-521.5\"/>\n",
       "<text text-anchor=\"middle\" x=\"204\" y=\"-506.3\" font-family=\"Times New Roman,serif\" font-size=\"14.00\">(None, 24, 24, 64)</text>\n",
       "</g>\n",
       "<!-- 2587441208192&#45;&gt;2587441258016 -->\n",
       "<g id=\"edge2\" class=\"edge\">\n",
       "<title>2587441208192-&gt;2587441258016</title>\n",
       "<path fill=\"none\" stroke=\"black\" d=\"M139.5,-581.79C139.5,-573.71 139.5,-564.35 139.5,-555.48\"/>\n",
       "<polygon fill=\"black\" stroke=\"black\" points=\"143,-555.78 139.5,-545.78 136,-555.78 143,-555.78\"/>\n",
       "</g>\n",
       "<!-- 2587422711280 -->\n",
       "<g id=\"node4\" class=\"node\">\n",
       "<title>2587422711280</title>\n",
       "<polygon fill=\"none\" stroke=\"black\" points=\"0,-415.5 0,-461.5 279,-461.5 279,-415.5 0,-415.5\"/>\n",
       "<text text-anchor=\"middle\" x=\"52\" y=\"-446.3\" font-family=\"Times New Roman,serif\" font-size=\"14.00\">max_pooling2d</text>\n",
       "<polyline fill=\"none\" stroke=\"black\" points=\"0,-438.5 104,-438.5\"/>\n",
       "<text text-anchor=\"middle\" x=\"52\" y=\"-423.3\" font-family=\"Times New Roman,serif\" font-size=\"14.00\">MaxPooling2D</text>\n",
       "<polyline fill=\"none\" stroke=\"black\" points=\"104,-415.5 104,-461.5\"/>\n",
       "<text text-anchor=\"middle\" x=\"132\" y=\"-446.3\" font-family=\"Times New Roman,serif\" font-size=\"14.00\">input:</text>\n",
       "<polyline fill=\"none\" stroke=\"black\" points=\"104,-438.5 160,-438.5\"/>\n",
       "<text text-anchor=\"middle\" x=\"132\" y=\"-423.3\" font-family=\"Times New Roman,serif\" font-size=\"14.00\">output:</text>\n",
       "<polyline fill=\"none\" stroke=\"black\" points=\"160,-415.5 160,-461.5\"/>\n",
       "<text text-anchor=\"middle\" x=\"219.5\" y=\"-446.3\" font-family=\"Times New Roman,serif\" font-size=\"14.00\">(None, 24, 24, 64)</text>\n",
       "<polyline fill=\"none\" stroke=\"black\" points=\"160,-438.5 279,-438.5\"/>\n",
       "<text text-anchor=\"middle\" x=\"219.5\" y=\"-423.3\" font-family=\"Times New Roman,serif\" font-size=\"14.00\">(None, 12, 12, 64)</text>\n",
       "</g>\n",
       "<!-- 2587441258016&#45;&gt;2587422711280 -->\n",
       "<g id=\"edge3\" class=\"edge\">\n",
       "<title>2587441258016-&gt;2587422711280</title>\n",
       "<path fill=\"none\" stroke=\"black\" d=\"M139.5,-498.79C139.5,-490.71 139.5,-481.35 139.5,-472.48\"/>\n",
       "<polygon fill=\"black\" stroke=\"black\" points=\"143,-472.78 139.5,-462.78 136,-472.78 143,-472.78\"/>\n",
       "</g>\n",
       "<!-- 2587439982192 -->\n",
       "<g id=\"node5\" class=\"node\">\n",
       "<title>2587439982192</title>\n",
       "<polygon fill=\"none\" stroke=\"black\" points=\"20,-332.5 20,-378.5 259,-378.5 259,-332.5 20,-332.5\"/>\n",
       "<text text-anchor=\"middle\" x=\"52\" y=\"-363.3\" font-family=\"Times New Roman,serif\" font-size=\"14.00\">dropout</text>\n",
       "<polyline fill=\"none\" stroke=\"black\" points=\"20,-355.5 84,-355.5\"/>\n",
       "<text text-anchor=\"middle\" x=\"52\" y=\"-340.3\" font-family=\"Times New Roman,serif\" font-size=\"14.00\">Dropout</text>\n",
       "<polyline fill=\"none\" stroke=\"black\" points=\"84,-332.5 84,-378.5\"/>\n",
       "<text text-anchor=\"middle\" x=\"112\" y=\"-363.3\" font-family=\"Times New Roman,serif\" font-size=\"14.00\">input:</text>\n",
       "<polyline fill=\"none\" stroke=\"black\" points=\"84,-355.5 140,-355.5\"/>\n",
       "<text text-anchor=\"middle\" x=\"112\" y=\"-340.3\" font-family=\"Times New Roman,serif\" font-size=\"14.00\">output:</text>\n",
       "<polyline fill=\"none\" stroke=\"black\" points=\"140,-332.5 140,-378.5\"/>\n",
       "<text text-anchor=\"middle\" x=\"199.5\" y=\"-363.3\" font-family=\"Times New Roman,serif\" font-size=\"14.00\">(None, 12, 12, 64)</text>\n",
       "<polyline fill=\"none\" stroke=\"black\" points=\"140,-355.5 259,-355.5\"/>\n",
       "<text text-anchor=\"middle\" x=\"199.5\" y=\"-340.3\" font-family=\"Times New Roman,serif\" font-size=\"14.00\">(None, 12, 12, 64)</text>\n",
       "</g>\n",
       "<!-- 2587422711280&#45;&gt;2587439982192 -->\n",
       "<g id=\"edge4\" class=\"edge\">\n",
       "<title>2587422711280-&gt;2587439982192</title>\n",
       "<path fill=\"none\" stroke=\"black\" d=\"M139.5,-415.79C139.5,-407.71 139.5,-398.35 139.5,-389.48\"/>\n",
       "<polygon fill=\"black\" stroke=\"black\" points=\"143,-389.78 139.5,-379.78 136,-389.78 143,-389.78\"/>\n",
       "</g>\n",
       "<!-- 2587422711424 -->\n",
       "<g id=\"node6\" class=\"node\">\n",
       "<title>2587422711424</title>\n",
       "<polygon fill=\"none\" stroke=\"black\" points=\"25,-249.5 25,-295.5 254,-295.5 254,-249.5 25,-249.5\"/>\n",
       "<text text-anchor=\"middle\" x=\"52\" y=\"-280.3\" font-family=\"Times New Roman,serif\" font-size=\"14.00\">flatten</text>\n",
       "<polyline fill=\"none\" stroke=\"black\" points=\"25,-272.5 79,-272.5\"/>\n",
       "<text text-anchor=\"middle\" x=\"52\" y=\"-257.3\" font-family=\"Times New Roman,serif\" font-size=\"14.00\">Flatten</text>\n",
       "<polyline fill=\"none\" stroke=\"black\" points=\"79,-249.5 79,-295.5\"/>\n",
       "<text text-anchor=\"middle\" x=\"107\" y=\"-280.3\" font-family=\"Times New Roman,serif\" font-size=\"14.00\">input:</text>\n",
       "<polyline fill=\"none\" stroke=\"black\" points=\"79,-272.5 135,-272.5\"/>\n",
       "<text text-anchor=\"middle\" x=\"107\" y=\"-257.3\" font-family=\"Times New Roman,serif\" font-size=\"14.00\">output:</text>\n",
       "<polyline fill=\"none\" stroke=\"black\" points=\"135,-249.5 135,-295.5\"/>\n",
       "<text text-anchor=\"middle\" x=\"194.5\" y=\"-280.3\" font-family=\"Times New Roman,serif\" font-size=\"14.00\">(None, 12, 12, 64)</text>\n",
       "<polyline fill=\"none\" stroke=\"black\" points=\"135,-272.5 254,-272.5\"/>\n",
       "<text text-anchor=\"middle\" x=\"194.5\" y=\"-257.3\" font-family=\"Times New Roman,serif\" font-size=\"14.00\">(None, 9216)</text>\n",
       "</g>\n",
       "<!-- 2587439982192&#45;&gt;2587422711424 -->\n",
       "<g id=\"edge5\" class=\"edge\">\n",
       "<title>2587439982192-&gt;2587422711424</title>\n",
       "<path fill=\"none\" stroke=\"black\" d=\"M139.5,-332.79C139.5,-324.71 139.5,-315.35 139.5,-306.48\"/>\n",
       "<polygon fill=\"black\" stroke=\"black\" points=\"143,-306.78 139.5,-296.78 136,-306.78 143,-306.78\"/>\n",
       "</g>\n",
       "<!-- 2587423135200 -->\n",
       "<g id=\"node7\" class=\"node\">\n",
       "<title>2587423135200</title>\n",
       "<polygon fill=\"none\" stroke=\"black\" points=\"41,-166.5 41,-212.5 238,-212.5 238,-166.5 41,-166.5\"/>\n",
       "<text text-anchor=\"middle\" x=\"66.5\" y=\"-197.3\" font-family=\"Times New Roman,serif\" font-size=\"14.00\">dense</text>\n",
       "<polyline fill=\"none\" stroke=\"black\" points=\"41,-189.5 92,-189.5\"/>\n",
       "<text text-anchor=\"middle\" x=\"66.5\" y=\"-174.3\" font-family=\"Times New Roman,serif\" font-size=\"14.00\">Dense</text>\n",
       "<polyline fill=\"none\" stroke=\"black\" points=\"92,-166.5 92,-212.5\"/>\n",
       "<text text-anchor=\"middle\" x=\"120\" y=\"-197.3\" font-family=\"Times New Roman,serif\" font-size=\"14.00\">input:</text>\n",
       "<polyline fill=\"none\" stroke=\"black\" points=\"92,-189.5 148,-189.5\"/>\n",
       "<text text-anchor=\"middle\" x=\"120\" y=\"-174.3\" font-family=\"Times New Roman,serif\" font-size=\"14.00\">output:</text>\n",
       "<polyline fill=\"none\" stroke=\"black\" points=\"148,-166.5 148,-212.5\"/>\n",
       "<text text-anchor=\"middle\" x=\"193\" y=\"-197.3\" font-family=\"Times New Roman,serif\" font-size=\"14.00\">(None, 9216)</text>\n",
       "<polyline fill=\"none\" stroke=\"black\" points=\"148,-189.5 238,-189.5\"/>\n",
       "<text text-anchor=\"middle\" x=\"193\" y=\"-174.3\" font-family=\"Times New Roman,serif\" font-size=\"14.00\">(None, 128)</text>\n",
       "</g>\n",
       "<!-- 2587422711424&#45;&gt;2587423135200 -->\n",
       "<g id=\"edge6\" class=\"edge\">\n",
       "<title>2587422711424-&gt;2587423135200</title>\n",
       "<path fill=\"none\" stroke=\"black\" d=\"M139.5,-249.79C139.5,-241.71 139.5,-232.35 139.5,-223.48\"/>\n",
       "<polygon fill=\"black\" stroke=\"black\" points=\"143,-223.78 139.5,-213.78 136,-223.78 143,-223.78\"/>\n",
       "</g>\n",
       "<!-- 2587440398688 -->\n",
       "<g id=\"node8\" class=\"node\">\n",
       "<title>2587440398688</title>\n",
       "<polygon fill=\"none\" stroke=\"black\" points=\"32,-83.5 32,-129.5 247,-129.5 247,-83.5 32,-83.5\"/>\n",
       "<text text-anchor=\"middle\" x=\"70\" y=\"-114.3\" font-family=\"Times New Roman,serif\" font-size=\"14.00\">dropout_1</text>\n",
       "<polyline fill=\"none\" stroke=\"black\" points=\"32,-106.5 108,-106.5\"/>\n",
       "<text text-anchor=\"middle\" x=\"70\" y=\"-91.3\" font-family=\"Times New Roman,serif\" font-size=\"14.00\">Dropout</text>\n",
       "<polyline fill=\"none\" stroke=\"black\" points=\"108,-83.5 108,-129.5\"/>\n",
       "<text text-anchor=\"middle\" x=\"136\" y=\"-114.3\" font-family=\"Times New Roman,serif\" font-size=\"14.00\">input:</text>\n",
       "<polyline fill=\"none\" stroke=\"black\" points=\"108,-106.5 164,-106.5\"/>\n",
       "<text text-anchor=\"middle\" x=\"136\" y=\"-91.3\" font-family=\"Times New Roman,serif\" font-size=\"14.00\">output:</text>\n",
       "<polyline fill=\"none\" stroke=\"black\" points=\"164,-83.5 164,-129.5\"/>\n",
       "<text text-anchor=\"middle\" x=\"205.5\" y=\"-114.3\" font-family=\"Times New Roman,serif\" font-size=\"14.00\">(None, 128)</text>\n",
       "<polyline fill=\"none\" stroke=\"black\" points=\"164,-106.5 247,-106.5\"/>\n",
       "<text text-anchor=\"middle\" x=\"205.5\" y=\"-91.3\" font-family=\"Times New Roman,serif\" font-size=\"14.00\">(None, 128)</text>\n",
       "</g>\n",
       "<!-- 2587423135200&#45;&gt;2587440398688 -->\n",
       "<g id=\"edge7\" class=\"edge\">\n",
       "<title>2587423135200-&gt;2587440398688</title>\n",
       "<path fill=\"none\" stroke=\"black\" d=\"M139.5,-166.79C139.5,-158.71 139.5,-149.35 139.5,-140.48\"/>\n",
       "<polygon fill=\"black\" stroke=\"black\" points=\"143,-140.78 139.5,-130.78 136,-140.78 143,-140.78\"/>\n",
       "</g>\n",
       "<!-- 2587440399456 -->\n",
       "<g id=\"node9\" class=\"node\">\n",
       "<title>2587440399456</title>\n",
       "<polygon fill=\"none\" stroke=\"black\" points=\"38.5,-0.5 38.5,-46.5 240.5,-46.5 240.5,-0.5 38.5,-0.5\"/>\n",
       "<text text-anchor=\"middle\" x=\"70\" y=\"-31.3\" font-family=\"Times New Roman,serif\" font-size=\"14.00\">dense_1</text>\n",
       "<polyline fill=\"none\" stroke=\"black\" points=\"38.5,-23.5 101.5,-23.5\"/>\n",
       "<text text-anchor=\"middle\" x=\"70\" y=\"-8.3\" font-family=\"Times New Roman,serif\" font-size=\"14.00\">Dense</text>\n",
       "<polyline fill=\"none\" stroke=\"black\" points=\"101.5,-0.5 101.5,-46.5\"/>\n",
       "<text text-anchor=\"middle\" x=\"129.5\" y=\"-31.3\" font-family=\"Times New Roman,serif\" font-size=\"14.00\">input:</text>\n",
       "<polyline fill=\"none\" stroke=\"black\" points=\"101.5,-23.5 157.5,-23.5\"/>\n",
       "<text text-anchor=\"middle\" x=\"129.5\" y=\"-8.3\" font-family=\"Times New Roman,serif\" font-size=\"14.00\">output:</text>\n",
       "<polyline fill=\"none\" stroke=\"black\" points=\"157.5,-0.5 157.5,-46.5\"/>\n",
       "<text text-anchor=\"middle\" x=\"199\" y=\"-31.3\" font-family=\"Times New Roman,serif\" font-size=\"14.00\">(None, 128)</text>\n",
       "<polyline fill=\"none\" stroke=\"black\" points=\"157.5,-23.5 240.5,-23.5\"/>\n",
       "<text text-anchor=\"middle\" x=\"199\" y=\"-8.3\" font-family=\"Times New Roman,serif\" font-size=\"14.00\">(None, 10)</text>\n",
       "</g>\n",
       "<!-- 2587440398688&#45;&gt;2587440399456 -->\n",
       "<g id=\"edge8\" class=\"edge\">\n",
       "<title>2587440398688-&gt;2587440399456</title>\n",
       "<path fill=\"none\" stroke=\"black\" d=\"M139.5,-83.79C139.5,-75.71 139.5,-66.35 139.5,-57.48\"/>\n",
       "<polygon fill=\"black\" stroke=\"black\" points=\"143,-57.78 139.5,-47.78 136,-57.78 143,-57.78\"/>\n",
       "</g>\n",
       "</g>\n",
       "</svg>"
      ],
      "text/plain": [
       "<IPython.core.display.SVG object>"
      ]
     },
     "execution_count": 10,
     "metadata": {},
     "output_type": "execute_result"
    }
   ],
   "source": [
    "from IPython.display import SVG\n",
    "from keras.utils.vis_utils import model_to_dot\n",
    "\n",
    "SVG(model_to_dot(model, show_shapes=True, \n",
    "                 show_layer_names=True, rankdir='TB').create(prog='dot', format='svg'))"
   ]
  },
  {
   "cell_type": "markdown",
   "metadata": {},
   "source": [
    "# Build the model"
   ]
  },
  {
   "cell_type": "code",
   "execution_count": 11,
   "metadata": {
    "collapsed": true
   },
   "outputs": [],
   "source": [
    "model.compile(loss=keras.losses.categorical_crossentropy,\n",
    "              optimizer=keras.optimizers.Adadelta(),\n",
    "              metrics=['accuracy'])"
   ]
  },
  {
   "cell_type": "code",
   "execution_count": 12,
   "metadata": {
    "collapsed": false
   },
   "outputs": [
    {
     "name": "stdout",
     "output_type": "stream",
     "text": [
      "Epoch 1/2\n",
      "469/469 [==============================] - 43s 91ms/step - loss: 2.2948 - accuracy: 0.1303 - val_loss: 2.2717 - val_accuracy: 0.2099\n",
      "Epoch 2/2\n",
      "469/469 [==============================] - 42s 89ms/step - loss: 2.2572 - accuracy: 0.2045 - val_loss: 2.2267 - val_accuracy: 0.3170\n"
     ]
    },
    {
     "data": {
      "text/plain": [
       "<keras.callbacks.History at 0x25a6fe60fd0>"
      ]
     },
     "execution_count": 12,
     "metadata": {},
     "output_type": "execute_result"
    }
   ],
   "source": [
    "model.fit(x_train, y_train,\n",
    "          batch_size=batch_size,\n",
    "          epochs=2,\n",
    "          verbose=1,\n",
    "          validation_data=(x_test, y_test))"
   ]
  },
  {
   "cell_type": "markdown",
   "metadata": {},
   "source": [
    "# Predict and test model performance"
   ]
  },
  {
   "cell_type": "code",
   "execution_count": 13,
   "metadata": {
    "collapsed": false
   },
   "outputs": [
    {
     "name": "stdout",
     "output_type": "stream",
     "text": [
      "313/313 [==============================] - 2s 7ms/step - loss: 2.2267 - accuracy: 0.3170\n"
     ]
    }
   ],
   "source": [
    "score = model.evaluate(x_test, y_test, verbose=1)"
   ]
  },
  {
   "cell_type": "code",
   "execution_count": 14,
   "metadata": {
    "collapsed": false
   },
   "outputs": [
    {
     "name": "stdout",
     "output_type": "stream",
     "text": [
      "Test loss: 2.226673126220703\n",
      "Test accuracy: 0.31700000166893005\n"
     ]
    }
   ],
   "source": [
    "print('Test loss:', score[0])\n",
    "print('Test accuracy:', score[1])"
   ]
  }
 ],
 "metadata": {
  "anaconda-cloud": {},
  "kernelspec": {
   "display_name": ".venv",
   "language": "python",
   "name": "python3"
  },
  "language_info": {
   "codemirror_mode": {
    "name": "ipython",
    "version": 3
   },
   "file_extension": ".py",
   "mimetype": "text/x-python",
   "name": "python",
   "nbconvert_exporter": "python",
   "pygments_lexer": "ipython3",
   "version": "3.9.13"
  }
 },
 "nbformat": 4,
 "nbformat_minor": 1
}
